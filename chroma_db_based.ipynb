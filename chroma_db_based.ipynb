{
 "cells": [
  {
   "cell_type": "code",
   "execution_count": 1,
   "id": "2b9fe671-84df-4bfa-86bc-d8668ca38ea8",
   "metadata": {},
   "outputs": [],
   "source": [
    "__import__('pysqlite3')\n",
    "import sys\n",
    "sys.modules['sqlite3'] = sys.modules.pop('pysqlite3')\n",
    "\n",
    "\n",
    "import time\n",
    "from dotenv import load_dotenv\n",
    "from langchain.chat_models import AzureChatOpenAI\n",
    "from langchain.embeddings import AzureOpenAIEmbeddings\n",
    "from langchain.prompts import ChatPromptTemplate\n",
    "from langchain.schema.output_parser import StrOutputParser\n",
    "from langchain.schema.runnable import RunnableLambda, RunnablePassthrough\n",
    "from langchain.vectorstores import FAISS\n",
    "import os \n",
    "import PyPDF2\n",
    "\n",
    "from langchain.vectorstores import Chroma\n",
    "from langchain_core.output_parsers import JsonOutputParser\n",
    "from langchain_community.vectorstores.elasticsearch import ElasticsearchStore\n",
    "from langchain_community.vectorstores import Qdrant\n",
    "from langchain_community.vectorstores import Chroma"
   ]
  },
  {
   "cell_type": "code",
   "execution_count": 2,
   "id": "76650b28-9881-4688-978e-b159f695beef",
   "metadata": {},
   "outputs": [],
   "source": [
    "load_dotenv()\n",
    "\n",
    "# # # Set the environment variables for Azure OpenAI\n",
    "os.environ[\"OPENAI_API_TYPE\"] = os.getenv(\"\")\n",
    "os.environ[\"OPENAI_API_BASE\"] = \"\"\n",
    "os.environ[\"OPENAI_API_KEY\"] = os.getenv(\"\")\n",
    "os.environ[\"OPENAI_API_VERSION\"] = os.getenv(\"\")\n"
   ]
  },
  {
   "cell_type": "code",
   "execution_count": null,
   "id": "e0dc9ac4-be3f-40df-bf7b-9a2118337c2c",
   "metadata": {},
   "outputs": [],
   "source": [
    "# Create an instance of AzureOpenAIEmbeddings\n",
    "embeddings = AzureOpenAIEmbeddings(\n",
    "    deployment=os.getenv(\"\"),\n",
    "    model=\"\",\n",
    "    openai_api_base= \"\",\n",
    "    openai_api_key= os.getenv(\"\"),\n",
    "    openai_api_version = os.getenv(\"\"),\n",
    "    openai_api_type=os.getenv(\"\")\n",
    ")"
   ]
  },
  {
   "cell_type": "code",
   "execution_count": null,
   "id": "a94e2c4b-9960-451e-9116-e3efbf23c377",
   "metadata": {},
   "outputs": [],
   "source": [
    "model = AzureChatOpenAI(\n",
    "        openai_api_base=os.getenv(\"GPT_4_API_BASE\"),\n",
    "        openai_api_version=os.getenv(\"GPT_4_API_VERSION\"),\n",
    "        deployment_name=os.getenv(\"GPT_4_ID\"),\n",
    "        openai_api_key=os.getenv(\"GPT_4_API_KEY\"),\n",
    "        openai_api_type=os.getenv(\"ORGANIZATION\"),\n",
    "    )"
   ]
  },
  {
   "cell_type": "code",
   "execution_count": 5,
   "id": "0de1d8c1-9e80-40f4-a72b-ad3d24d32c7b",
   "metadata": {},
   "outputs": [
    {
     "name": "stdout",
     "output_type": "stream",
     "text": [
      "tesseract 5.3.3-30-gea0b\n",
      " leptonica-1.79.0\n",
      "  libgif 5.1.4 : libjpeg 8d (libjpeg-turbo 2.0.3) : libpng 1.6.37 : libtiff 4.1.0 : zlib 1.2.11 : libwebp 0.6.1 : libopenjp2 2.3.1\n",
      " Found AVX512BW\n",
      " Found AVX512F\n",
      " Found AVX512VNNI\n",
      " Found AVX2\n",
      " Found AVX\n",
      " Found FMA\n",
      " Found SSE4.1\n",
      " Found OpenMP 201511\n",
      " Found libarchive 3.4.0 zlib/1.2.11 liblzma/5.2.4 bz2lib/1.0.8 liblz4/1.9.2 libzstd/1.4.4\n",
      " Found libcurl/7.68.0 OpenSSL/1.1.1f zlib/1.2.11 brotli/1.0.7 libidn2/2.2.0 libpsl/0.21.0 (+libidn2/2.2.0) libssh/0.9.3/openssl/zlib nghttp2/1.40.0 librtmp/2.3\n"
     ]
    }
   ],
   "source": [
    "from img2table.document import PDF\n",
    "from img2table.ocr import TesseractOCR\n",
    "import json\n",
    "\n",
    "pdf = PDF(src=\"\")\n",
    "ocr = TesseractOCR(lang=\"eng\")\n",
    "pdf_tables = pdf.extract_tables(ocr=ocr)\n",
    "pdf.to_xlsx(\"rel.xlsx\",ocr=ocr)\n",
    "\n",
    "import pandas as pd\n",
    "import json\n",
    "\n",
    "def xlsx_to_json(file_path):\n",
    "    # Read the Excel file\n",
    "    xls = pd.ExcelFile(file_path)\n",
    "\n",
    "    # Initialize dictionary to hold all sheet data\n",
    "    all_data = {}\n",
    "\n",
    "    # Iterate through each sheet in the Excel file\n",
    "    for sheet_name in xls.sheet_names:\n",
    "        # Read each sheet into a DataFrame\n",
    "        df = pd.read_excel(file_path, sheet_name=sheet_name)\n",
    "        \n",
    "        # Convert the DataFrame rows to list of dictionaries\n",
    "        sheet_data = df.to_dict(orient='records')\n",
    "\n",
    "        # Add the data to the dictionary using sheet name as the key\n",
    "        all_data[sheet_name] = sheet_data\n",
    "\n",
    "    return all_data\n",
    "\n",
    "# Replace 'file_path.xlsx' with the path to your Excel file\n",
    "file_path = 'rel.xlsx'\n",
    "\n",
    "# Convert Excel data to JSON\n",
    "json_data = xlsx_to_json(file_path)\n",
    "\n",
    "# Print or do whatever you want with the JSON data\n",
    "mapping_tabular_data = json.loads(json.dumps(json_data, indent=4))\n"
   ]
  },
  {
   "cell_type": "code",
   "execution_count": 6,
   "id": "643ee306-aaa5-4d59-9e67-0c72be31f575",
   "metadata": {},
   "outputs": [],
   "source": [
    "mapping_tabular_data = {i.replace(\" \",\"\"):v for i,v in mapping_tabular_data.items()}\n",
    "# mapping_tabular_data.keys()"
   ]
  },
  {
   "cell_type": "code",
   "execution_count": 7,
   "id": "b707abc8-98bd-4f6d-a47d-3dd30b433e9a",
   "metadata": {},
   "outputs": [],
   "source": [
    "import re\n",
    "\n",
    "def clean_text(input_text):\n",
    "    # Replace '\\n' with space\n",
    "    cleaned_text = input_text.replace(\"\\n\", \" \")\n",
    "    cleaned_text = cleaned_text.replace(\"\\\\\", \" \")\n",
    "    # Replace multiple spaces with a single space\n",
    "    cleaned_text = re.sub(r'\\s+', ' ', cleaned_text)\n",
    "    \n",
    "    return cleaned_text\n"
   ]
  },
  {
   "cell_type": "code",
   "execution_count": 8,
   "id": "df76c5f8-d27c-4c3c-ae28-57696a013a91",
   "metadata": {},
   "outputs": [],
   "source": [
    "import fitz\n",
    "def extractTextFromPdf():\n",
    "    files =  ['']\n",
    "    for count,file in enumerate(files):\n",
    "        try:\n",
    "            if file:\n",
    "                pdf_reader = PyPDF2.PdfReader(file)\n",
    "                text = \"\"#[]\n",
    "                for page in range(len(pdf_reader.pages)):\n",
    "                    # text += pdf_reader.pages[page].extract_text()\n",
    "                    new_page = clean_text(pdf_reader.pages[page].extract_text())\n",
    "    \n",
    "                    if count==0:\n",
    "                        for key_name in mapping_tabular_data.keys():\n",
    "                            if \"Page\"+str(page+1)+\"-\" in key_name:\n",
    "                                new_page = new_page+ clean_text(str({'TABLE_DATA':mapping_tabular_data[key_name]}))\n",
    "                                print(\"Page\"+str(page+1)+\"-\",key_name)\n",
    "                    # print(new_page)   \n",
    "                    # text.append(new_page)\n",
    "                    text = text+new_page\n",
    "                \n",
    "                if text and not text == '':\n",
    "                    # text.append(json.dumps(mapping_tabular_data))\n",
    "                    return text\n",
    "                else:\n",
    "                    return None\n",
    "            else:\n",
    "                return None\n",
    "    \n",
    "        except Exception as e:\n",
    "            print(f\"An error occurred: {e}\")\n",
    "\n",
    "    return None"
   ]
  },
  {
   "cell_type": "code",
   "execution_count": 10,
   "id": "c1a6c880-f8dd-4995-9fb9-86922f5081d5",
   "metadata": {},
   "outputs": [
    {
     "name": "stdout",
     "output_type": "stream",
     "text": [
      "Page4- Page4-Table1\n",
      "Page4- Page4-Table2\n",
      "Page4- Page4-Table3\n",
      "Page5- Page5-Table1\n",
      "Page5- Page5-Table2\n",
      "Page6- Page6-Table1\n",
      "Page6- Page6-Table2\n",
      "Page6- Page6-Table3\n",
      "Page7- Page7-Table1\n",
      "Page8- Page8-Table1\n"
     ]
    }
   ],
   "source": [
    "extracted_text = extractTextFromPdf()\n",
    "from langchain_core.documents.base import Document\n",
    "documents = []\n",
    "# for c,i in enumerate(a):\n",
    "#     new_doc = Document(page_content=i, metadata={\"page_number\":c+1})\n",
    "#     documents.append(new_doc)\n",
    "\n",
    "new_doc = Document(page_content=extracted_text, metadata={\"page_number\":1})\n",
    "documents.append(new_doc)\n"
   ]
  },
  {
   "cell_type": "code",
   "execution_count": 11,
   "id": "0761645a-9bd9-45b4-8196-8d6f26c9142a",
   "metadata": {},
   "outputs": [],
   "source": [
    "db = Chroma.from_documents(documents, embeddings)"
   ]
  },
  {
   "cell_type": "code",
   "execution_count": 12,
   "id": "409ccdfb-ba06-4f48-bf48-538dc4772523",
   "metadata": {},
   "outputs": [],
   "source": [
    "chroma_retriever = db.as_retriever(search_kwargs={'k': 1})"
   ]
  },
  {
   "cell_type": "code",
   "execution_count": 13,
   "id": "d7d3a442-2f77-44ec-8896-af8905b186c4",
   "metadata": {},
   "outputs": [
    {
     "name": "stderr",
     "output_type": "stream",
     "text": [
      "Number of requested results 4 is greater than number of elements in index 1, updating n_results = 1\n"
     ]
    }
   ],
   "source": [
    "query = \"create mapping for reverse file format\"\n",
    "docs = db.similarity_search(query)\n",
    "\n",
    "# print results\n",
    "# print(docs)"
   ]
  },
  {
   "cell_type": "code",
   "execution_count": null,
   "id": "1527e32a-4a75-454e-9e33-6b3793b8743b",
   "metadata": {},
   "outputs": [],
   "source": [
    "question = \"\"\n",
    "mapping_extraction_query = f\"\"\"\n",
    "Question : {question}\n",
    "\n",
    "{{context}}\n",
    "\n",
    "\n",
    "        \n",
    "\"\"\"\n",
    "prompt = ChatPromptTemplate.from_template(mapping_extraction_query)    \n",
    "chain = (\n",
    "    {\"context\": chroma_retriever, \"question\": RunnablePassthrough()}\n",
    "    | prompt\n",
    "    | model\n",
    "    | StrOutputParser()\n",
    ")\n",
    "\n",
    "response = chain.invoke(question)\n",
    "print(response)"
   ]
  },
  {
   "cell_type": "code",
   "execution_count": null,
   "id": "4cd0a430-1456-4400-86bc-f3868e5c1575",
   "metadata": {},
   "outputs": [],
   "source": []
  }
 ],
 "metadata": {
  "kernelspec": {
   "display_name": "vir",
   "language": "python",
   "name": "python3"
  },
  "language_info": {
   "codemirror_mode": {
    "name": "ipython",
    "version": 3
   },
   "file_extension": ".py",
   "mimetype": "text/x-python",
   "name": "python",
   "nbconvert_exporter": "python",
   "pygments_lexer": "ipython3",
   "version": "3.9.6"
  }
 },
 "nbformat": 4,
 "nbformat_minor": 5
}
